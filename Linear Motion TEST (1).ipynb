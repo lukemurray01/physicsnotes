{
 "cells": [
  {
   "cell_type": "markdown",
   "metadata": {},
   "source": [
    "# Classical Mechanics\n",
    "## Section 1\n",
    "### Motion in 1D under conservative forces"
   ]
  },
  {
   "cell_type": "markdown",
   "metadata": {},
   "source": [
    "Imagine a point particle that is free to move along a line. We can choose an arbitary origin along this line such that moving right corresponds to the postive direction and left being the negative direction.\n",
    "Suppose a position-depending force $F(x)$ acts on the particle"
   ]
  },
  {
   "cell_type": "markdown",
   "metadata": {},
   "source": [
    "#### Newton's 2nd Law\n",
    "\\begin{align}\n",
    "F &= ma \\tag{1}\\\\\n",
    "\\\\\n",
    " &= m \\frac{dv}{dt}\\\\\n",
    " &= m \\frac{d}{dt}\\Bigg[ \\frac{dx}{dt} \\Bigg] \\\\\n",
    " &= m \\frac{d^{2}x}{d^{2}t} \\\\\n",
    "\\textrm{Where $\\frac{d^{2}x}{d^{2}t} \\equiv \\ddot{x}$}\\\\\n",
    "\\\\\n",
    "F(x) &= m\\ddot{x} \\tag{2}\n",
    "\\end{align}"
   ]
  },
  {
   "cell_type": "markdown",
   "metadata": {},
   "source": [
    "This is a second order differential equation, in order to find the position $x(t)$ we need to integrate twice. Each intergration will introduce a constant $c$, so we need two initial conditions to obtain a solution.\n",
    "\n",
    "Suppose the force depends only on the position and not on the higher-derivatives $\\dot{x},\\ddot{x},\\dots$ etc.\n",
    "Then there is aconserved quantity, formally called the integral of motion or the energy.\n",
    "\n",
    "Looking at the kinetic energy $T$ of this system, we can then take the time derivative of both sides:"
   ]
  },
  {
   "cell_type": "markdown",
   "metadata": {},
   "source": [
    "\\begin{align}\n",
    "T &= \\frac{1}{2}m\\dot{x}^{2} \\tag{3}~\\\\\n",
    "\\frac{dT}{dt} &= \\frac{d}{dt}\\Bigg[ \\frac{1}{2}m\\dot{x}^{2}\\Bigg]\\\\\n",
    "\\frac{dT}{dt} &= \\frac{1}{2}(2)m\\ddot{x}\\dot{x}\\\\\n",
    "\\frac{dT}{dt} &= F(x)\\dot{x} \\tag{4}\n",
    "\\end{align}"
   ]
  },
  {
   "cell_type": "markdown",
   "metadata": {},
   "source": [
    "Integation with respect to time, we can find"
   ]
  },
  {
   "cell_type": "markdown",
   "metadata": {},
   "source": [
    "\\begin{align}\n",
    "\\int \\frac{dT}{dt} dt &= \\int F(x) \\frac{dx}{dt} dt\\\\\n",
    "T &= \\int F(x)dx \\tag{5}\n",
    "\\end{align}"
   ]
  },
  {
   "cell_type": "markdown",
   "metadata": {},
   "source": [
    "Then we have a conserved equantity due the equality, we could subtract these two values and obtain zero.\n",
    "\n",
    "Let's define potential energy $V(x)$ as"
   ]
  },
  {
   "cell_type": "markdown",
   "metadata": {},
   "source": [
    "\\begin{align} \n",
    "T(x) - \\int^{x_{1}}_{x_{0}}F(x)dx\\\\\n",
    "V(x) = -\\int^{x_{1}}_{x_{0}}F(x')dx' \\tag{6}\n",
    "\\end{align}"
   ]
  },
  {
   "cell_type": "markdown",
   "metadata": {},
   "source": [
    "Which let's us write the following equation (Law of Conservation of Energy)"
   ]
  },
  {
   "cell_type": "markdown",
   "metadata": {},
   "source": [
    "\\begin{align}\n",
    "T + V = E = \\textrm{constant} \\tag{7}\n",
    "\\end{align}"
   ]
  },
  {
   "cell_type": "markdown",
   "metadata": {},
   "source": [
    "Note that $x_{0}$ is an arbitrary constant, corresponding to the arbitrary additive constant of integration from $(5)$."
   ]
  },
  {
   "cell_type": "markdown",
   "metadata": {},
   "source": [
    "We can also define the potential energy by rewritting $(6)$ as"
   ]
  },
  {
   "cell_type": "markdown",
   "metadata": {},
   "source": [
    "\\begin{align}\n",
    "V(x) = -\\int^{x_{1}}_{x_{0}}F(x')dx'\\\\\n",
    "F(x) = - \\frac{dV}{dx} \\equiv -V'(x) \\tag{8}\n",
    "\\end{align}"
   ]
  },
  {
   "cell_type": "markdown",
   "metadata": {},
   "source": [
    "We want to show that energy is conserved in this system. Looking back Newton's 2nd Law we can now show the following"
   ]
  },
  {
   "cell_type": "markdown",
   "metadata": {},
   "source": [
    "\\begin{align}\n",
    "F &= m\\ddot{x}\\\\\n",
    "\\frac{dT}{dt} &= m\\ddot{x}\\dot{x}\\\\\n",
    "\\\\\n",
    "\\frac{dT}{dt} &= F(x)\\dot{x} = \\dot{x}\\Bigg[-\\frac{dV}{dx}\\Bigg]\\\\\n",
    "\\\\\n",
    "\\frac{dT}{dt} &= -\\frac{dx}{dt}\\frac{dV}{dx} = -\\frac{dV}{dt}\\\\\n",
    "\\\\\n",
    "\\frac{d}{dt}[T + V] &= 0 \\tag{9}\n",
    "\\end{align}"
   ]
  },
  {
   "cell_type": "markdown",
   "metadata": {},
   "source": [
    "Then, as the kinetic energy $T$ and potential energy $V$ do not change with time, the energy is conserved."
   ]
  }
 ],
 "metadata": {
  "kernelspec": {
   "display_name": "Python 3",
   "language": "python",
   "name": "python3"
  },
  "language_info": {
   "codemirror_mode": {
    "name": "ipython",
    "version": 3
   },
   "file_extension": ".py",
   "mimetype": "text/x-python",
   "name": "python",
   "nbconvert_exporter": "python",
   "pygments_lexer": "ipython3",
   "version": "3.8.3"
  }
 },
 "nbformat": 4,
 "nbformat_minor": 4
}
